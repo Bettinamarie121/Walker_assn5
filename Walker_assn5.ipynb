{
 "cells": [
  {
   "cell_type": "markdown",
   "metadata": {},
   "source": [
    "Question 1"
   ]
  },
  {
   "cell_type": "code",
   "execution_count": 93,
   "metadata": {},
   "outputs": [],
   "source": [
    "#assign file to variable (filename = variable = 'guest_list.txt\"\n",
    "filename='guest_list.txt' \n",
    "\n",
    "#use open to open guest_list.txt\n",
    "with open(filename) as file_object: \n",
    "    guests=file_object.readlines()[1:] #stores lines in list called guests \n",
    "    #readlines() takes each line and assigns to list "
   ]
  },
  {
   "cell_type": "code",
   "execution_count": 94,
   "metadata": {},
   "outputs": [],
   "source": [
    "#create empty dictionary\n",
    "guest_dict={}\n",
    "\n",
    "#execute for loop on dictionary\n",
    "for guest in guests:\n",
    "    strip_guests=guest.rstrip() #remove new line character (\\n) from line string \n",
    "    split_guests=strip_guests.split('\\t') #split line string on tab into list\n",
    "    guest_dict[split_guests[0]]=split_guests[1] #splits the guest list and assigns the guest name as the key and \n",
    "    #their vegetarian status as the value in the dictionary"
   ]
  },
  {
   "cell_type": "code",
   "execution_count": 105,
   "metadata": {},
   "outputs": [
    {
     "name": "stdout",
     "output_type": "stream",
     "text": [
      "There are 14 people that will eat turkey.\n"
     ]
    }
   ],
   "source": [
    "#declare empty list\n",
    "meat_eaters=[]\n",
    "\n",
    "#execute for loop on dictionary \n",
    "for key, value in guest_dict.items():\n",
    "    \n",
    "    #conditional if/else loop with \"or\" \n",
    "    if value=='No' or value=='Sometimes': #assign meateaters count to meateaters count list\n",
    "        meat_eaters.append((key)) #append \n",
    "\n",
    "NUM=len(meat_eaters) #len() to get the number of elements (meateaters) in a list\n",
    "\n",
    "print(f'There are',NUM,'people that will eat turkey.') #prints sentence with the number of turkey eaters"
   ]
  },
  {
   "cell_type": "markdown",
   "metadata": {},
   "source": [
    "Question 2"
   ]
  },
  {
   "cell_type": "code",
   "execution_count": 106,
   "metadata": {},
   "outputs": [],
   "source": [
    "#import turkey_size file\n",
    "filename1='turkey_size.txt' #assign file to variable\n",
    "\n",
    "#use open to open turkey_size.txt \n",
    "with open(filename1) as file_object:\n",
    "    turkey=file_object.readlines()[1:] #readlines() to take each line and assigns to list "
   ]
  },
  {
   "cell_type": "code",
   "execution_count": 107,
   "metadata": {},
   "outputs": [],
   "source": [
    "#create empty dictionary\n",
    "turkey_dict={}\n",
    "\n",
    "#execute for loop on dictionary\n",
    "for turk in turkey:\n",
    "    strip_turkey=turk.rstrip() #remove new line character (\\n) from line string\n",
    "    split_turkey=strip_turkey.split('\\t') #split line string on tab into list\n",
    "    turkey_dict[split_turkey[0]]=split_turkey[1] #splits the turkey dict "
   ]
  },
  {
   "cell_type": "code",
   "execution_count": 112,
   "metadata": {},
   "outputs": [
    {
     "name": "stdout",
     "output_type": "stream",
     "text": [
      "We need a 20 pound turkey.\n"
     ]
    }
   ],
   "source": [
    "#declare empty list\n",
    "turkey_lb=[]\n",
    "\n",
    "#execute for loop on dictionary \n",
    "for key, value in turkey_dict.items():\n",
    "    if int(key)>int(NUM): #for value of int(key)if greater than int(NUM)\n",
    "        turkey_lb.append((value)) #to append turkey value to turkey_lb\n",
    "\n",
    "LB=turkey_lb[0] #assign variable to turkey_lb\n",
    "\n",
    "print(f'We need a',LB,'pound turkey.')"
   ]
  },
  {
   "cell_type": "markdown",
   "metadata": {},
   "source": [
    "Question 3"
   ]
  },
  {
   "cell_type": "code",
   "execution_count": 123,
   "metadata": {},
   "outputs": [],
   "source": [
    "guest_dict['Larry']='No' #added to guest dictionary\n",
    "guest_dict['Moe']='Yes'\n",
    "guest_dict['Curly']='Sometimes'"
   ]
  },
  {
   "cell_type": "code",
   "execution_count": 115,
   "metadata": {},
   "outputs": [
    {
     "name": "stdout",
     "output_type": "stream",
     "text": [
      "There are now 16 people that will eat turkey.\n",
      "We now need a 25 pound turkey.\n"
     ]
    }
   ],
   "source": [
    "#declare empty list\n",
    "meat_eaters=[]\n",
    "\n",
    "#execute for loop on dictionary \n",
    "for key, value in guest_dict.items():\n",
    "    if value=='No' or value=='Sometimes': #conditional if loop with \"or\"\n",
    "        meat_eaters.append((key)) #to append meat_eaters\n",
    "\n",
    "NUM=len(meat_eaters) #len() to get the number of elements (meateaters) in a list\n",
    "\n",
    "print(f'There are now',NUM,'people that will eat turkey.')\n",
    "\n",
    "turkey_lb=[]\n",
    "\n",
    "#execute for loop on dictionary \n",
    "for key, value in turkey_dict.items():\n",
    "    if int(key)>int(NUM): #for value of int(key)if greater than int(NUM) \n",
    "        turkey_lb.append((value)) #to append to turkey_append\n",
    "\n",
    "LB=turkey_lb[0]\n",
    "\n",
    "print(f'We now need a',LB,'pound turkey.')"
   ]
  }
 ],
 "metadata": {
  "kernelspec": {
   "display_name": "Python 3",
   "language": "python",
   "name": "python3"
  },
  "language_info": {
   "codemirror_mode": {
    "name": "ipython",
    "version": 3
   },
   "file_extension": ".py",
   "mimetype": "text/x-python",
   "name": "python",
   "nbconvert_exporter": "python",
   "pygments_lexer": "ipython3",
   "version": "3.8.3"
  }
 },
 "nbformat": 4,
 "nbformat_minor": 4
}
